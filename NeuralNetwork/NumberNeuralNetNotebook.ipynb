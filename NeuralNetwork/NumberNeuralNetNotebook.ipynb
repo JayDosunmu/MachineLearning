{
 "cells": [
  {
   "cell_type": "code",
   "execution_count": 1,
   "metadata": {
    "collapsed": true
   },
   "outputs": [],
   "source": [
    "import numpy as np\n",
    "import scipy.special as sci\n",
    "import matplotlib\n",
    "%matplotlib inline"
   ]
  },
  {
   "cell_type": "code",
   "execution_count": 2,
   "metadata": {
    "collapsed": true
   },
   "outputs": [],
   "source": [
    "with open('mnist_test.csv', 'r') as f:\n",
    "    training_file = f.readlines()\n",
    "\n",
    "training_data = []\n",
    "for line in training_file:\n",
    "    line = line.split(',')\n",
    "    training_data.append([int(line[0]), [int(num) / 255 * 0.98 + 0.01 for num in line[1:]]])\n",
    "    \n",
    "with open('mnist_test_10.csv', 'r') as f:\n",
    "    testing_file = f.readlines()\n",
    "    \n",
    "testing_data = []\n",
    "for line in testing_file:\n",
    "    line = line.split(',')\n",
    "    num = int(line[0])\n",
    "    testing_data.append([int(line[0]), [int(num) / 255 * 0.98 + 0.01 for num in line[1:]]])\n"
   ]
  },
  {
   "cell_type": "code",
   "execution_count": 3,
   "metadata": {
    "collapsed": true
   },
   "outputs": [],
   "source": [
    "expected_nums = {\n",
    "    0: [0.99, 0.1, 0.1, 0.1, 0.1, 0.1, 0.1, 0.1, 0.1, 0.1],\n",
    "    1: [0.1, 0.99, 0.1, 0.1, 0.1, 0.1, 0.1, 0.1, 0.1, 0.1],\n",
    "    2: [0.1, 0.1, 0.99, 0.1, 0.1, 0.1, 0.1, 0.1, 0.1, 0.1],\n",
    "    3: [0.1, 0.1, 0.1, 0.99, 0.1, 0.1, 0.1, 0.1, 0.1, 0.1],\n",
    "    4: [0.1, 0.1, 0.1, 0.1, 0.99, 0.1, 0.1, 0.1, 0.1, 0.1],\n",
    "    5: [0.1, 0.1, 0.1, 0.1, 0.1, 0.99, 0.1, 0.1, 0.1, 0.1],\n",
    "    6: [0.1, 0.1, 0.1, 0.1, 0.1, 0.1, 0.99, 0.1, 0.1, 0.1],\n",
    "    7: [0.1, 0.1, 0.1, 0.1, 0.1, 0.1, 0.1, 0.99, 0.1, 0.1],\n",
    "    8: [0.1, 0.1, 0.1, 0.1, 0.1, 0.1, 0.1, 0.1, 0.99, 0.1],\n",
    "    9: [0.1, 0.1, 0.1, 0.1, 0.1, 0.1, 0.1, 0.1, 0.1, 0.99]\n",
    "}"
   ]
  },
  {
   "cell_type": "code",
   "execution_count": 4,
   "metadata": {
    "collapsed": true
   },
   "outputs": [],
   "source": [
    "from neuralnetwork import NeuralNetwork as NN\n",
    "num_net = NN(784, 100, 10, 0.2)\n",
    "\n",
    "for data in training_data:\n",
    "    num_net.train(data[1], expected_nums[data[0]])\n"
   ]
  },
  {
   "cell_type": "code",
   "execution_count": 8,
   "metadata": {},
   "outputs": [
    {
     "name": "stdout",
     "output_type": "stream",
     "text": [
      "Guess: 2, Target: 2\n"
     ]
    },
    {
     "data": {
      "text/plain": [
       "<matplotlib.image.AxesImage at 0x16e464320>"
      ]
     },
     "execution_count": 8,
     "metadata": {},
     "output_type": "execute_result"
    },
    {
     "data": {
      "image/png": "[encoded data removed]",
      "text/plain": [
       "<matplotlib.figure.Figure at 0x16e2a8a20>"
      ]
     },
     "metadata": {},
     "output_type": "display_data"
    }
   ],
   "source": [
    "correct = 0\n",
    "images = []\n",
    "\n",
    "test_input = testing_data[5]\n",
    "nn_output = num_net.query(test_input[1])\n",
    "guess = np.argmax(nn_output)\n",
    "if guess == test_input[0]:\n",
    "    correct += 1\n",
    "    images.append(np.array(test_input[1]).reshape(28, 28))\n",
    "else:\n",
    "    images.append(np.array(test_input[1]).reshape(28, 28))\n",
    "    print('Guess: '+str(guess)+', Target: '+str(test_input[0]))\n",
    "    print('Number likelihood: '+str(nn_output))\n",
    "\n",
    "print('Guess: '+str(guess)+', Target: '+str(test_input[0]))\n",
    "matplotlib.pyplot.imshow(images[0], cmap='Greys', interpolation='None')\n",
    "# print('Accuracy: '+str(correct)+'%')"
   ]
  },
  {
   "cell_type": "code",
   "execution_count": 13,
   "metadata": {},
   "outputs": [
    {
     "data": {
      "text/plain": [
       "<matplotlib.image.AxesImage at 0x16f45ffd0>"
      ]
     },
     "execution_count": 13,
     "metadata": {},
     "output_type": "execute_result"
    },
    {
     "data": {
      "image/png": "[encoded data removed]",
      "text/plain": [
       "<matplotlib.figure.Figure at 0x16f42e080>"
      ]
     },
     "metadata": {},
     "output_type": "display_data"
    }
   ],
   "source": [
    "result = num_net.thought_process(expected_nums[9])\n",
    "img = result.reshape(28, 28)\n",
    "matplotlib.pyplot.imshow(img, cmap='Greys', interpolation='None')"
   ]
  }
 ],
 "metadata": {
  "kernelspec": {
   "display_name": "Python 3",
   "language": "python",
   "name": "python3"
  },
  "language_info": {
   "codemirror_mode": {
    "name": "ipython",
    "version": 3
   },
   "file_extension": ".py",
   "mimetype": "text/x-python",
   "name": "python",
   "nbconvert_exporter": "python",
   "pygments_lexer": "ipython3",
   "version": "3.5.2"
  }
 },
 "nbformat": 4,
 "nbformat_minor": 2
}
