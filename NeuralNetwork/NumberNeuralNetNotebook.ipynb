{
 "cells": [
  {
   "cell_type": "code",
   "execution_count": 1,
   "metadata": {
    "collapsed": true
   },
   "outputs": [],
   "source": [
    "import numpy as np\n",
    "import scipy.special as sci\n",
    "import matplotlib\n",
    "%matplotlib inline"
   ]
  },
  {
   "cell_type": "code",
   "execution_count": 2,
   "metadata": {
    "collapsed": true
   },
   "outputs": [],
   "source": [
    "with open('mnist_train.csv', 'r') as f:\n",
    "    training_file = f.readlines()\n",
    "\n",
    "training_data = []\n",
    "for line in training_file:\n",
    "    line = line.split(',')\n",
    "    training_data.append([int(line[0]), [int(num) / 255 * 0.98 + 0.01 for num in line[1:]]])\n",
    "    \n",
    "with open('mnist_train_100.csv', 'r') as f:\n",
    "    testing_file = f.readlines()\n",
    "    \n",
    "testing_data = []\n",
    "for line in testing_file:\n",
    "    line = line.split(',')\n",
    "    num = int(line[0])\n",
    "    testing_data.append([int(line[0]), [int(num) / 255 * 0.98 + 0.01 for num in line[1:]]])\n"
   ]
  },
  {
   "cell_type": "code",
   "execution_count": 3,
   "metadata": {
    "collapsed": true
   },
   "outputs": [],
   "source": [
    "expected_nums = {\n",
    "    0: [0.99, 0.01, 0.01, 0.01, 0.01, 0.01, 0.01, 0.01, 0.01, 0.01],\n",
    "    1: [0.01, 0.99, 0.01, 0.01, 0.01, 0.01, 0.01, 0.01, 0.01, 0.01],\n",
    "    2: [0.01, 0.01, 0.99, 0.01, 0.01, 0.01, 0.01, 0.01, 0.01, 0.01],\n",
    "    3: [0.01, 0.01, 0.01, 0.99, 0.01, 0.01, 0.01, 0.01, 0.01, 0.01],\n",
    "    4: [0.01, 0.01, 0.01, 0.01, 0.99, 0.01, 0.01, 0.01, 0.01, 0.01],\n",
    "    5: [0.01, 0.01, 0.01, 0.01, 0.01, 0.99, 0.01, 0.01, 0.01, 0.01],\n",
    "    6: [0.01, 0.01, 0.01, 0.01, 0.01, 0.01, 0.99, 0.01, 0.01, 0.01],\n",
    "    7: [0.01, 0.01, 0.01, 0.01, 0.01, 0.01, 0.01, 0.99, 0.01, 0.01],\n",
    "    8: [0.01, 0.01, 0.01, 0.01, 0.01, 0.01, 0.01, 0.01, 0.99, 0.01],\n",
    "    9: [0.01, 0.01, 0.01, 0.01, 0.01, 0.01, 0.01, 0.01, 0.01, 0.99]\n",
    "}"
   ]
  },
  {
   "cell_type": "code",
   "execution_count": 4,
   "metadata": {
    "collapsed": true
   },
   "outputs": [],
   "source": [
    "from neuralnetwork import NeuralNetwork as NN\n",
    "num_net = NN(784, 100, 10, 0.2)\n",
    "\n",
    "for data in training_data:\n",
    "    num_net.train(data[1], expected_nums[data[0]])\n"
   ]
  },
  {
   "cell_type": "code",
   "execution_count": 7,
   "metadata": {},
   "outputs": [
    {
     "name": "stdout",
     "output_type": "stream",
     "text": [
      "Guess: 3, Target: 1\n",
      "Number likelihood: [ 0.00281242  0.13431563  0.01895366  0.14420111  0.02262603  0.05939595\n",
      "  0.0367569   0.00362197  0.00307585  0.13045548]\n",
      "Guess: 3, Target: 9\n",
      "Number likelihood: [  9.67190553e-05   1.16422717e-01   5.33481083e-03   2.91132265e-01\n",
      "   5.38842506e-03   4.70842172e-02   2.77656194e-04   4.75412103e-03\n",
      "   4.23797575e-02   7.18732614e-03]\n",
      "Guess: 8, Target: 9\n",
      "Number likelihood: [ 0.37385886  0.00138577  0.00305105  0.02300724  0.00220277  0.01930732\n",
      "  0.03405172  0.00109412  0.42573818  0.05431874]\n",
      "Performance: 3.0% error rate\n",
      "Performance: 97.0% accuracy\n",
      "\n",
      "\n",
      "Human viewable:\n",
      "Guess: 1, Target: 1\n"
     ]
    },
    {
     "data": {
      "text/plain": [
       "<matplotlib.image.AxesImage at 0x16dc837f0>"
      ]
     },
     "execution_count": 7,
     "metadata": {},
     "output_type": "execute_result"
    },
    {
     "data": {
      "image/png": "[encoded data removed]",
      "text/plain": [
       "<matplotlib.figure.Figure at 0x16dc36748>"
      ]
     },
     "metadata": {},
     "output_type": "display_data"
    }
   ],
   "source": [
    "correct = 0\n",
    "images = []\n",
    "for i in range(len(testing_data)):\n",
    "    test_input = testing_data[i]\n",
    "    nn_output = num_net.query(test_input[1])\n",
    "    guess = np.argmax(nn_output)\n",
    "\n",
    "    if guess == test_input[0]:\n",
    "        correct += 1\n",
    "    else:\n",
    "        images.append(np.array(test_input[1]).reshape(28, 28))\n",
    "        print('Guess: '+str(guess)+', Target: '+str(test_input[0]))\n",
    "        print('Number likelihood: '+str(nn_output))\n",
    "\n",
    "correctness = float(correct/len(testing_data))*100\n",
    "print('Performance: '+str(100 - correctness)+'% error rate')\n",
    "print('Performance: '+str(correctness)+'% accuracy')\n",
    "\n",
    "print('\\n\\nHuman viewable:')\n",
    "print('Guess: '+str(guess)+', Target: '+str(test_input[0]))\n",
    "matplotlib.pyplot.imshow(images[0], cmap='Greys', interpolation='None')\n",
    "# print('Accuracy: '+str(correct)+'%')"
   ]
  },
  {
   "cell_type": "markdown",
   "metadata": {},
   "source": [
    "img = result.reshape(28, 28)\n",
    "matplotlib.pyplot.imshow(img, cmap='Greys', interpolation='None')"
   ]
  },
  {
   "cell_type": "code",
   "execution_count": 11,
   "metadata": {},
   "outputs": [
    {
     "ename": "TypeError",
     "evalue": "thought_process() missing 1 required positional argument: 'self'",
     "output_type": "error",
     "traceback": [
      "\u001b[0;31m---------------------------------------------------------------------------\u001b[0m",
      "\u001b[0;31mTypeError\u001b[0m                                 Traceback (most recent call last)",
      "\u001b[0;32m<ipython-input-11-5b624c43ada0>\u001b[0m in \u001b[0;36m<module>\u001b[0;34m()\u001b[0m\n\u001b[0;32m----> 1\u001b[0;31m \u001b[0mthoughts\u001b[0m \u001b[0;34m=\u001b[0m \u001b[0mNN\u001b[0m\u001b[0;34m.\u001b[0m\u001b[0mthought_process\u001b[0m\u001b[0;34m(\u001b[0m\u001b[0minputs\u001b[0m\u001b[0;34m=\u001b[0m\u001b[0mexpected_nums\u001b[0m\u001b[0;34m[\u001b[0m\u001b[0;36m1\u001b[0m\u001b[0;34m]\u001b[0m\u001b[0;34m)\u001b[0m\u001b[0;34m\u001b[0m\u001b[0m\n\u001b[0m\u001b[1;32m      2\u001b[0m \u001b[0mmatplotlib\u001b[0m\u001b[0;34m.\u001b[0m\u001b[0mpyplot\u001b[0m\u001b[0;34m.\u001b[0m\u001b[0mimshow\u001b[0m\u001b[0;34m(\u001b[0m\u001b[0mthoughts\u001b[0m\u001b[0;34m,\u001b[0m \u001b[0mcmap\u001b[0m\u001b[0;34m=\u001b[0m\u001b[0;34m'Greys'\u001b[0m\u001b[0;34m,\u001b[0m \u001b[0minterpolation\u001b[0m\u001b[0;34m=\u001b[0m\u001b[0;34m'None'\u001b[0m\u001b[0;34m)\u001b[0m\u001b[0;34m\u001b[0m\u001b[0m\n",
      "\u001b[0;31mTypeError\u001b[0m: thought_process() missing 1 required positional argument: 'self'"
     ]
    }
   ],
   "source": [
    "thoughts = NN.thought_process(inputs=expected_nums[1])\n",
    "matplotlib.pyplot.imshow(thoughts, cmap='Greys', interpolation='None')"
   ]
  }
 ],
 "metadata": {
  "kernelspec": {
   "display_name": "Python 3",
   "language": "python",
   "name": "python3"
  },
  "language_info": {
   "codemirror_mode": {
    "name": "ipython",
    "version": 3
   },
   "file_extension": ".py",
   "mimetype": "text/x-python",
   "name": "python",
   "nbconvert_exporter": "python",
   "pygments_lexer": "ipython3",
   "version": "3.5.2"
  }
 },
 "nbformat": 4,
 "nbformat_minor": 2
}
