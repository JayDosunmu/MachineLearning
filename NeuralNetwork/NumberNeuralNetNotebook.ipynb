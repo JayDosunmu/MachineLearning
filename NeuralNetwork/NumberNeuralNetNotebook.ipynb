{
 "cells": [
  {
   "cell_type": "code",
   "execution_count": 1,
   "metadata": {
    "collapsed": true
   },
   "outputs": [],
   "source": [
    "import numpy as np\n",
    "import scipy.special as sci\n",
    "import matplotlib\n",
    "%matplotlib inline"
   ]
  },
  {
   "cell_type": "code",
   "execution_count": 2,
   "metadata": {
    "collapsed": true
   },
   "outputs": [],
   "source": [
    "with open('mnist_train.csv', 'r') as f:\n",
    "    training_file = f.readlines()\n",
    "\n",
    "training_data = []\n",
    "for line in training_file:\n",
    "    line = line.split(',')\n",
    "    training_data.append([int(line[0]), [int(num) / 255 * 0.98 + 0.01 for num in line[1:]]])\n",
    "    \n",
    "with open('mnist_train_100.csv', 'r') as f:\n",
    "    testing_file = f.readlines()\n",
    "    \n",
    "testing_data = []\n",
    "for line in testing_file:\n",
    "    line = line.split(',')\n",
    "    num = int(line[0])\n",
    "    testing_data.append([int(line[0]), [int(num) / 255 * 0.98 + 0.01 for num in line[1:]]])\n"
   ]
  },
  {
   "cell_type": "code",
   "execution_count": 3,
   "metadata": {
    "collapsed": true
   },
   "outputs": [],
   "source": [
    "expected_nums = {\n",
    "    0: [0.99, 0.01, 0.01, 0.01, 0.01, 0.01, 0.01, 0.01, 0.01, 0.01],\n",
    "    1: [0.01, 0.99, 0.01, 0.01, 0.01, 0.01, 0.01, 0.01, 0.01, 0.01],\n",
    "    2: [0.01, 0.01, 0.99, 0.01, 0.01, 0.01, 0.01, 0.01, 0.01, 0.01],\n",
    "    3: [0.01, 0.01, 0.01, 0.99, 0.01, 0.01, 0.01, 0.01, 0.01, 0.01],\n",
    "    4: [0.01, 0.01, 0.01, 0.01, 0.99, 0.01, 0.01, 0.01, 0.01, 0.01],\n",
    "    5: [0.01, 0.01, 0.01, 0.01, 0.01, 0.99, 0.01, 0.01, 0.01, 0.01],\n",
    "    6: [0.01, 0.01, 0.01, 0.01, 0.01, 0.01, 0.99, 0.01, 0.01, 0.01],\n",
    "    7: [0.01, 0.01, 0.01, 0.01, 0.01, 0.01, 0.01, 0.99, 0.01, 0.01],\n",
    "    8: [0.01, 0.01, 0.01, 0.01, 0.01, 0.01, 0.01, 0.01, 0.99, 0.01],\n",
    "    9: [0.01, 0.01, 0.01, 0.01, 0.01, 0.01, 0.01, 0.01, 0.01, 0.99]\n",
    "}"
   ]
  },
  {
   "cell_type": "code",
   "execution_count": 4,
   "metadata": {
    "collapsed": true
   },
   "outputs": [],
   "source": [
    "from neuralnetwork import NeuralNetwork as NN\n",
    "num_net = NN(784, 100, 10, 0.2)\n",
    "\n",
    "for data in training_data:\n",
    "    num_net.train(data[1], expected_nums[data[0]])\n"
   ]
  },
  {
   "cell_type": "code",
   "execution_count": 15,
   "metadata": {},
   "outputs": [
    {
     "name": "stdout",
     "output_type": "stream",
     "text": [
      "Guess: 9, Target: 1\n",
      "Number likelihood: [ 0.00712785  0.33588585  0.03126609  0.51189048  0.11470513  0.02402641\n",
      "  0.00827124  0.0088126   0.00722357  0.67982526]\n",
      "Guess: 8, Target: 7\n",
      "Number likelihood: [ 0.00118303  0.06701533  0.01883116  0.00026436  0.04488952  0.03453071\n",
      "  0.00227509  0.14364991  0.16769402  0.06848821]\n",
      "Guess: 3, Target: 9\n",
      "Number likelihood: [ 0.00064798  0.02801467  0.00105108  0.48574229  0.00155466  0.01639642\n",
      "  0.00053738  0.00293841  0.01663867  0.16256961]\n",
      "Guess: 0, Target: 9\n",
      "Number likelihood: [ 0.47613779  0.00201673  0.00122687  0.0087603   0.00238515  0.03995467\n",
      "  0.03948022  0.02525995  0.1631105   0.00118429]\n",
      "Performance: 4.0% error rate\n",
      "Performance: 96.0% accuracy\n",
      "\n",
      "\n",
      "Human viewable:\n",
      "Guess: 1, Target: 1\n"
     ]
    },
    {
     "data": {
      "text/plain": [
       "<matplotlib.image.AxesImage at 0x16ed7a4e0>"
      ]
     },
     "execution_count": 15,
     "metadata": {},
     "output_type": "execute_result"
    },
    {
     "data": {
      "image/png": "[encoded data removed]",
      "text/plain": [
       "<matplotlib.figure.Figure at 0x16ebae860>"
      ]
     },
     "metadata": {},
     "output_type": "display_data"
    }
   ],
   "source": [
    "correct = 0\n",
    "images = []\n",
    "for i in range(len(testing_data)):\n",
    "    test_input = testing_data[i]\n",
    "    nn_output = num_net.query(test_input[1])\n",
    "    guess = np.argmax(nn_output)\n",
    "\n",
    "    if guess == test_input[0]:\n",
    "        correct += 1\n",
    "    else:\n",
    "        images.append(np.array(test_input[1]).reshape(28, 28))\n",
    "        print('Guess: '+str(guess)+', Target: '+str(test_input[0]))\n",
    "        print('Number likelihood: '+str(nn_output))\n",
    "\n",
    "correctness = float(correct/len(testing_data))*100\n",
    "print('Performance: '+str(100 - correctness)+'% error rate')\n",
    "print('Performance: '+str(correctness)+'% accuracy')\n",
    "\n",
    "print('\\n\\nHuman viewable:')\n",
    "print('Guess: '+str(guess)+', Target: '+str(test_input[0]))\n",
    "matplotlib.pyplot.imshow(images[0], cmap='Greys', interpolation='None')\n",
    "# print('Accuracy: '+str(correct)+'%')"
   ]
  },
  {
   "cell_type": "code",
   "execution_count": 10,
   "metadata": {},
   "outputs": [
    {
     "data": {
      "text/plain": [
       "<matplotlib.image.AxesImage at 0x16e9f1b38>"
      ]
     },
     "execution_count": 10,
     "metadata": {},
     "output_type": "execute_result"
    },
    {
     "data": {
      "image/png": "[encoded data removed]",
      "text/plain": [
       "<matplotlib.figure.Figure at 0x16df7e978>"
      ]
     },
     "metadata": {},
     "output_type": "display_data"
    }
   ],
   "source": [
    "result = num_net.thought_process(expected_nums[1])\n",
    "img = result.reshape(28, 28)\n",
    "matplotlib.pyplot.imshow(img, cmap='Greys', interpolation='None')"
   ]
  }
 ],
 "metadata": {
  "kernelspec": {
   "display_name": "Python 3",
   "language": "python",
   "name": "python3"
  },
  "language_info": {
   "codemirror_mode": {
    "name": "ipython",
    "version": 3
   },
   "file_extension": ".py",
   "mimetype": "text/x-python",
   "name": "python",
   "nbconvert_exporter": "python",
   "pygments_lexer": "ipython3",
   "version": "3.5.2"
  }
 },
 "nbformat": 4,
 "nbformat_minor": 2
}
